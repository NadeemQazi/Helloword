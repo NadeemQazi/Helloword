{
  "nbformat": 4,
  "nbformat_minor": 0,
  "metadata": {
    "colab": {
      "name": "convirusAnalysis.ipynb",
      "provenance": [],
      "authorship_tag": "ABX9TyOh5cOwnoI2K2tN55NXubPK",
      "include_colab_link": true
    },
    "kernelspec": {
      "name": "python3",
      "display_name": "Python 3"
    }
  },
  "cells": [
    {
      "cell_type": "markdown",
      "metadata": {
        "id": "view-in-github",
        "colab_type": "text"
      },
      "source": [
        "<a href=\"https://colab.research.google.com/github/NadeemQazi/ML-on-Spark/blob/master/convirusAnalysis.ipynb\" target=\"_parent\"><img src=\"https://colab.research.google.com/assets/colab-badge.svg\" alt=\"Open In Colab\"/></a>"
      ]
    },
    {
      "cell_type": "code",
      "metadata": {
        "id": "YpA4KkkdCqZW",
        "colab_type": "code",
        "colab": {}
      },
      "source": [
        "# this is analysis of the convirusdata set. started 15 March 2020"
      ],
      "execution_count": 0,
      "outputs": []
    }
  ]
}