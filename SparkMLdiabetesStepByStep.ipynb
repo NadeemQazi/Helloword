{
  "nbformat": 4,
  "nbformat_minor": 0,
  "metadata": {
    "colab": {
      "name": "SparkMLdiabetesStepByStep.ipynb",
      "provenance": [],
      "collapsed_sections": [],
      "authorship_tag": "ABX9TyO2rANIGCxmadfkOwZC1R+2",
      "include_colab_link": true
    },
    "kernelspec": {
      "name": "python3",
      "display_name": "Python 3"
    }
  },
  "cells": [
    {
      "cell_type": "markdown",
      "metadata": {
        "id": "view-in-github",
        "colab_type": "text"
      },
      "source": [
        "<a href=\"https://colab.research.google.com/github/NadeemQazi/Helloword/blob/master/SparkMLdiabetesStepByStep.ipynb\" target=\"_parent\"><img src=\"https://colab.research.google.com/assets/colab-badge.svg\" alt=\"Open In Colab\"/></a>"
      ]
    },
    {
      "cell_type": "code",
      "metadata": {
        "id": "g150xAh3__sD",
        "colab_type": "code",
        "colab": {}
      },
      "source": [
        ""
      ],
      "execution_count": 0,
      "outputs": []
    },
    {
      "cell_type": "code",
      "metadata": {
        "id": "1rs8wnLbT7AR",
        "colab_type": "code",
        "colab": {}
      },
      "source": [
        ""
      ],
      "execution_count": 0,
      "outputs": []
    },
    {
      "cell_type": "code",
      "metadata": {
        "colab_type": "code",
        "id": "pyNw971OmGoW",
        "colab": {}
      },
      "source": [
        "# every package has to install each time googlecolab runs jyputernoot book.\n",
        "!apt-get install openjdk-8-jdk-headless -qq > /dev/null\n",
        "!wget -q http://www-eu.apache.org/dist/spark/spark-2.4.5/spark-2.4.5-bin-hadoop2.7.tgz\n",
        "!tar xf spark-2.4.5-bin-hadoop2.7.tgz\n",
        "!pip install -q findspark\n",
        "import os\n",
        "os.environ[\"JAVA_HOME\"] = \"/usr/lib/jvm/java-8-openjdk-amd64\"\n",
        "os.environ[\"SPARK_HOME\"] = \"/content/spark-2.4.5-bin-hadoop2.7\"\n",
        "# starts the spark only three steps\n",
        "import findspark\n",
        "findspark.init()\n",
        "from pyspark.sql import SparkSession\n",
        "spark = SparkSession.builder.master(\"local[*]\").getOrCreate()\n",
        "\n",
        "\n"
      ],
      "execution_count": 0,
      "outputs": []
    },
    {
      "cell_type": "code",
      "metadata": {
        "id": "we-2grq7Z2-d",
        "colab_type": "code",
        "colab": {}
      },
      "source": [
        ""
      ],
      "execution_count": 0,
      "outputs": []
    },
    {
      "cell_type": "code",
      "metadata": {
        "id": "5GdivURtkbSA",
        "colab_type": "code",
        "colab": {}
      },
      "source": [
        "from pyspark.sql import SparkSession\n",
        "\n",
        "spark = SparkSession \\\n",
        "    .builder \\\n",
        "    .appName(\"Python Spark SQL basic example\") \\\n",
        "    .config(\"spark.some.config.option\", \"some-value\") \\\n",
        "    .getOrCreate()"
      ],
      "execution_count": 0,
      "outputs": []
    },
    {
      "cell_type": "code",
      "metadata": {
        "id": "0nSL2-QDgX24",
        "colab_type": "code",
        "outputId": "67528aa9-ad67-463d-a9ce-dce181d18bd0",
        "colab": {
          "base_uri": "https://localhost:8080/",
          "height": 126
        }
      },
      "source": [
        "from google.colab import drive\n",
        "drive.mount('/content/drive')"
      ],
      "execution_count": 3,
      "outputs": [
        {
          "output_type": "stream",
          "text": [
            "Go to this URL in a browser: https://accounts.google.com/o/oauth2/auth?client_id=947318989803-6bn6qk8qdgf4n4g3pfee6491hc0brc4i.apps.googleusercontent.com&redirect_uri=urn%3aietf%3awg%3aoauth%3a2.0%3aoob&response_type=code&scope=email%20https%3a%2f%2fwww.googleapis.com%2fauth%2fdocs.test%20https%3a%2f%2fwww.googleapis.com%2fauth%2fdrive%20https%3a%2f%2fwww.googleapis.com%2fauth%2fdrive.photos.readonly%20https%3a%2f%2fwww.googleapis.com%2fauth%2fpeopleapi.readonly\n",
            "\n",
            "Enter your authorization code:\n",
            "··········\n",
            "Mounted at /content/drive\n"
          ],
          "name": "stdout"
        }
      ]
    },
    {
      "cell_type": "code",
      "metadata": {
        "id": "12hdmr7igacO",
        "colab_type": "code",
        "colab": {}
      },
      "source": [
        ""
      ],
      "execution_count": 0,
      "outputs": []
    },
    {
      "cell_type": "code",
      "metadata": {
        "id": "Zcd5Pr7xtijh",
        "colab_type": "code",
        "colab": {}
      },
      "source": [
        "#raw_data = spark.read.format(\"csv\").option(\"header\",\"true\").option(\"inferSchema\", \"true\").load(r\".\\\\diabetes.csv\")\n",
        "dataset = spark.read.csv('drive/My Drive/Colab Notebooks/diabetes.csv',inferSchema=True, header =True)"
      ],
      "execution_count": 0,
      "outputs": []
    },
    {
      "cell_type": "code",
      "metadata": {
        "id": "gTTxx25dhSnN",
        "colab_type": "code",
        "outputId": "b0456677-c923-4957-eb14-7ac64151a2d8",
        "colab": {
          "base_uri": "https://localhost:8080/",
          "height": 178
        }
      },
      "source": [
        "# what are the columns in this dataset\n",
        "dataset.columns"
      ],
      "execution_count": 5,
      "outputs": [
        {
          "output_type": "execute_result",
          "data": {
            "text/plain": [
              "['Pregnancies',\n",
              " 'Glucose',\n",
              " 'BloodPressure',\n",
              " 'SkinThickness',\n",
              " 'Insulin',\n",
              " 'BMI',\n",
              " 'DiabetesPedigreeFunction',\n",
              " 'Age',\n",
              " 'Outcome']"
            ]
          },
          "metadata": {
            "tags": []
          },
          "execution_count": 5
        }
      ]
    },
    {
      "cell_type": "markdown",
      "metadata": {
        "id": "tl1g_oD3IXdo",
        "colab_type": "text"
      },
      "source": [
        ""
      ]
    },
    {
      "cell_type": "code",
      "metadata": {
        "id": "MwHcIKQXhW-H",
        "colab_type": "code",
        "outputId": "778ca391-ad03-4456-ba2b-71fd7859d84a",
        "colab": {
          "base_uri": "https://localhost:8080/",
          "height": 196
        }
      },
      "source": [
        "dataset.describe().select(\"Summary\",\"Pregnancies\",\"Glucose\",\"BloodPressure\").show()"
      ],
      "execution_count": 6,
      "outputs": [
        {
          "output_type": "stream",
          "text": [
            "+-------+------------------+-----------------+------------------+\n",
            "|Summary|       Pregnancies|          Glucose|     BloodPressure|\n",
            "+-------+------------------+-----------------+------------------+\n",
            "|  count|               768|              768|               768|\n",
            "|   mean|3.8450520833333335|     120.89453125|       69.10546875|\n",
            "| stddev|  3.36957806269887|31.97261819513622|19.355807170644777|\n",
            "|    min|                 0|                0|                 0|\n",
            "|    max|                17|              199|               122|\n",
            "+-------+------------------+-----------------+------------------+\n",
            "\n"
          ],
          "name": "stdout"
        }
      ]
    },
    {
      "cell_type": "code",
      "metadata": {
        "id": "EQvTNvjviIC1",
        "colab_type": "code",
        "outputId": "8590df6d-d450-4994-b1e2-5909c2a12149",
        "colab": {
          "base_uri": "https://localhost:8080/",
          "height": 196
        }
      },
      "source": [
        "dataset.describe().select(\"Summary\",\"SkinThickness\",\"Insulin\").show()"
      ],
      "execution_count": 7,
      "outputs": [
        {
          "output_type": "stream",
          "text": [
            "+-------+------------------+------------------+\n",
            "|Summary|     SkinThickness|           Insulin|\n",
            "+-------+------------------+------------------+\n",
            "|  count|               768|               768|\n",
            "|   mean|20.536458333333332| 79.79947916666667|\n",
            "| stddev|15.952217567727642|115.24400235133803|\n",
            "|    min|                 0|                 0|\n",
            "|    max|                99|               846|\n",
            "+-------+------------------+------------------+\n",
            "\n"
          ],
          "name": "stdout"
        }
      ]
    },
    {
      "cell_type": "code",
      "metadata": {
        "id": "hiuAkYhgiUfU",
        "colab_type": "code",
        "outputId": "a13155ba-ab2d-4bd3-b4da-5c076f1fd722",
        "colab": {
          "base_uri": "https://localhost:8080/",
          "height": 196
        }
      },
      "source": [
        "dataset.describe().select(\"Summary\",\"BMI\",\"DiabetesPedigreeFunction\",\"Age\").show()"
      ],
      "execution_count": 8,
      "outputs": [
        {
          "output_type": "stream",
          "text": [
            "+-------+------------------+------------------------+------------------+\n",
            "|Summary|               BMI|DiabetesPedigreeFunction|               Age|\n",
            "+-------+------------------+------------------------+------------------+\n",
            "|  count|               768|                     768|               768|\n",
            "|   mean|31.992578124999977|      0.4718763020833327|33.240885416666664|\n",
            "| stddev| 7.884160320375441|       0.331328595012775|11.760231540678689|\n",
            "|    min|               0.0|                   0.078|                21|\n",
            "|    max|              67.1|                    2.42|                81|\n",
            "+-------+------------------+------------------------+------------------+\n",
            "\n"
          ],
          "name": "stdout"
        }
      ]
    },
    {
      "cell_type": "code",
      "metadata": {
        "id": "GVeY-MLlilAn",
        "colab_type": "code",
        "outputId": "9dfbaf4d-4476-4cd1-c7e3-ac9b5a496b94",
        "colab": {
          "base_uri": "https://localhost:8080/",
          "height": 214
        }
      },
      "source": [
        "# replace min value of zeros with Nan as data cleaning processs\n",
        "import numpy as np\n",
        "from pyspark.sql.functions import when\n",
        "dataset=dataset.withColumn(\"Glucose\",when(dataset.Glucose==0,np.nan).otherwise (dataset.Glucose))\n",
        "dataset=dataset.withColumn(\"BloodPressure\",when(dataset.BloodPressure==0,np.nan).otherwise(dataset.BloodPressure))\n",
        "dataset=dataset.withColumn(\"SkinThickness\",when(dataset.SkinThickness==0,np.nan).otherwise(dataset.SkinThickness))\n",
        "dataset=dataset.withColumn(\"BMI\",when(dataset.BMI==0,np.nan).otherwise(dataset.BMI))\n",
        "dataset=dataset.withColumn(\"Insulin\",when(dataset.Insulin==0,np.nan).otherwise(dataset.Insulin))\n",
        "dataset.select(\"Insulin\",\"Glucose\",\"BloodPressure\",\"SkinThickness\",\"BMI\").show(5)\n"
      ],
      "execution_count": 10,
      "outputs": [
        {
          "output_type": "stream",
          "text": [
            "+-------+-------+-------------+-------------+----+\n",
            "|Insulin|Glucose|BloodPressure|SkinThickness| BMI|\n",
            "+-------+-------+-------------+-------------+----+\n",
            "|    NaN|  148.0|         72.0|         35.0|33.6|\n",
            "|    NaN|   85.0|         66.0|         29.0|26.6|\n",
            "|    NaN|  183.0|         64.0|          NaN|23.3|\n",
            "|   94.0|   89.0|         66.0|         23.0|28.1|\n",
            "|  168.0|  137.0|         40.0|         35.0|43.1|\n",
            "+-------+-------+-------------+-------------+----+\n",
            "only showing top 5 rows\n",
            "\n"
          ],
          "name": "stdout"
        }
      ]
    },
    {
      "cell_type": "code",
      "metadata": {
        "id": "c6-7RX2lkpM4",
        "colab_type": "code",
        "outputId": "eb1f2207-7ec8-4c43-dc65-f89dadbe399b",
        "colab": {
          "base_uri": "https://localhost:8080/",
          "height": 214
        }
      },
      "source": [
        "#impute\n",
        "from pyspark.ml.feature import Imputer\n",
        "imputer=Imputer(inputCols=[\"Glucose\",\"BloodPressure\",\"SkinThickness\",\"BMI\",\"Insulin\"],outputCols=[\"Glucose\",\"BloodPressure\",\"SkinThickness\",\"BMI\",\"Insulin\"])\n",
        "model=imputer.fit(dataset)\n",
        "dataset=model.transform(dataset)\n",
        "dataset.show(5)"
      ],
      "execution_count": 11,
      "outputs": [
        {
          "output_type": "stream",
          "text": [
            "+-----------+-------+-------------+------------------+-----------------+----+------------------------+---+-------+\n",
            "|Pregnancies|Glucose|BloodPressure|     SkinThickness|          Insulin| BMI|DiabetesPedigreeFunction|Age|Outcome|\n",
            "+-----------+-------+-------------+------------------+-----------------+----+------------------------+---+-------+\n",
            "|          6|  148.0|         72.0|              35.0|155.5482233502538|33.6|                   0.627| 50|      1|\n",
            "|          1|   85.0|         66.0|              29.0|155.5482233502538|26.6|                   0.351| 31|      0|\n",
            "|          8|  183.0|         64.0|29.153419593345657|155.5482233502538|23.3|                   0.672| 32|      1|\n",
            "|          1|   89.0|         66.0|              23.0|             94.0|28.1|                   0.167| 21|      0|\n",
            "|          0|  137.0|         40.0|              35.0|            168.0|43.1|                   2.288| 33|      1|\n",
            "+-----------+-------+-------------+------------------+-----------------+----+------------------------+---+-------+\n",
            "only showing top 5 rows\n",
            "\n"
          ],
          "name": "stdout"
        }
      ]
    },
    {
      "cell_type": "code",
      "metadata": {
        "id": "HDiAdXE_oWV2",
        "colab_type": "code",
        "outputId": "bf4db1b5-b505-46c1-905d-fb6514cacab5",
        "colab": {
          "base_uri": "https://localhost:8080/",
          "height": 482
        }
      },
      "source": [
        "#us combine all the features in one single feature vector.\n",
        "cols=dataset.columns\n",
        "cols.remove(\"Outcome\")\n",
        "# Let us import the vector assembler\n",
        "from pyspark.ml.feature import VectorAssembler\n",
        "assembler = VectorAssembler(inputCols=cols,outputCol=\"features\")\n",
        "# Now let us use the transform method to transform our dataset\n",
        "dataset=assembler.transform(dataset)\n",
        "dataset.select(\"features\").show(truncate=False)"
      ],
      "execution_count": 12,
      "outputs": [
        {
          "output_type": "stream",
          "text": [
            "+-----------------------------------------------------------------------------------+\n",
            "|features                                                                           |\n",
            "+-----------------------------------------------------------------------------------+\n",
            "|[6.0,148.0,72.0,35.0,155.5482233502538,33.6,0.627,50.0]                            |\n",
            "|[1.0,85.0,66.0,29.0,155.5482233502538,26.6,0.351,31.0]                             |\n",
            "|[8.0,183.0,64.0,29.153419593345657,155.5482233502538,23.3,0.672,32.0]              |\n",
            "|[1.0,89.0,66.0,23.0,94.0,28.1,0.167,21.0]                                          |\n",
            "|[0.0,137.0,40.0,35.0,168.0,43.1,2.288,33.0]                                        |\n",
            "|[5.0,116.0,74.0,29.153419593345657,155.5482233502538,25.6,0.201,30.0]              |\n",
            "|[3.0,78.0,50.0,32.0,88.0,31.0,0.248,26.0]                                          |\n",
            "|[10.0,115.0,72.40518417462484,29.153419593345657,155.5482233502538,35.3,0.134,29.0]|\n",
            "|[2.0,197.0,70.0,45.0,543.0,30.5,0.158,53.0]                                        |\n",
            "|[8.0,125.0,96.0,29.153419593345657,155.5482233502538,32.45746367239099,0.232,54.0] |\n",
            "|[4.0,110.0,92.0,29.153419593345657,155.5482233502538,37.6,0.191,30.0]              |\n",
            "|[10.0,168.0,74.0,29.153419593345657,155.5482233502538,38.0,0.537,34.0]             |\n",
            "|[10.0,139.0,80.0,29.153419593345657,155.5482233502538,27.1,1.441,57.0]             |\n",
            "|[1.0,189.0,60.0,23.0,846.0,30.1,0.398,59.0]                                        |\n",
            "|[5.0,166.0,72.0,19.0,175.0,25.8,0.587,51.0]                                        |\n",
            "|[7.0,100.0,72.40518417462484,29.153419593345657,155.5482233502538,30.0,0.484,32.0] |\n",
            "|[0.0,118.0,84.0,47.0,230.0,45.8,0.551,31.0]                                        |\n",
            "|[7.0,107.0,74.0,29.153419593345657,155.5482233502538,29.6,0.254,31.0]              |\n",
            "|[1.0,103.0,30.0,38.0,83.0,43.3,0.183,33.0]                                         |\n",
            "|[1.0,115.0,70.0,30.0,96.0,34.6,0.529,32.0]                                         |\n",
            "+-----------------------------------------------------------------------------------+\n",
            "only showing top 20 rows\n",
            "\n"
          ],
          "name": "stdout"
        }
      ]
    },
    {
      "cell_type": "code",
      "metadata": {
        "id": "qysbmrFxptzH",
        "colab_type": "code",
        "outputId": "4c7f91e5-73f8-4069-ca34-740c6b1f8325",
        "colab": {
          "base_uri": "https://localhost:8080/",
          "height": 214
        }
      },
      "source": [
        "#Standard Sclarizer\n",
        "from pyspark.ml.feature import StandardScaler\n",
        "standardscaler=StandardScaler().setInputCol(\"features\").setOutputCol(\"Scaled_features\")\n",
        "dataset=standardscaler.fit(dataset).transform(dataset)\n",
        "dataset.select(\"features\",\"Scaled_features\").show(5)"
      ],
      "execution_count": 13,
      "outputs": [
        {
          "output_type": "stream",
          "text": [
            "+--------------------+--------------------+\n",
            "|            features|     Scaled_features|\n",
            "+--------------------+--------------------+\n",
            "|[6.0,148.0,72.0,3...|[1.78063837321943...|\n",
            "|[1.0,85.0,66.0,29...|[0.29677306220323...|\n",
            "|[8.0,183.0,64.0,2...|[2.37418449762590...|\n",
            "|[1.0,89.0,66.0,23...|[0.29677306220323...|\n",
            "|[0.0,137.0,40.0,3...|[0.0,4.5012560836...|\n",
            "+--------------------+--------------------+\n",
            "only showing top 5 rows\n",
            "\n"
          ],
          "name": "stdout"
        }
      ]
    },
    {
      "cell_type": "code",
      "metadata": {
        "id": "u85-frfNqk2i",
        "colab_type": "code",
        "colab": {}
      },
      "source": [
        "#Train, test split\n",
        "train, test = dataset.randomSplit([0.8, 0.2], seed=12345)"
      ],
      "execution_count": 0,
      "outputs": []
    },
    {
      "cell_type": "code",
      "metadata": {
        "id": "SobMNS6hq8b5",
        "colab_type": "code",
        "outputId": "5b9cf24d-b659-4342-d8d0-d92006dc51b0",
        "colab": {
          "base_uri": "https://localhost:8080/",
          "height": 53
        }
      },
      "source": [
        " #imbalance in the dataset\n",
        " dataset_size=float(train.select(\"Outcome\").count())\n",
        "numPositives=train.select(\"Outcome\").where('Outcome == 1').count()\n",
        "per_ones=(float(numPositives)/float(dataset_size))*100\n",
        "numNegatives=float(dataset_size-numPositives)\n",
        "print('The number of ones are {}'.format(numPositives))\n",
        "print('Percentage of ones are {}'.format(per_ones))"
      ],
      "execution_count": 15,
      "outputs": [
        {
          "output_type": "stream",
          "text": [
            "The number of ones are 206\n",
            "Percentage of ones are 34.27620632279534\n"
          ],
          "name": "stdout"
        }
      ]
    },
    {
      "cell_type": "code",
      "metadata": {
        "id": "iPO1dm7yrmO-",
        "colab_type": "code",
        "outputId": "2e4ec48d-79a0-4eb6-e07c-7fa77ce61bda",
        "colab": {
          "base_uri": "https://localhost:8080/",
          "height": 35
        }
      },
      "source": [
        "BalancingRatio= numNegatives/dataset_size\n",
        "print('BalancingRatio = {}'.format(BalancingRatio))"
      ],
      "execution_count": 16,
      "outputs": [
        {
          "output_type": "stream",
          "text": [
            "BalancingRatio = 0.6572379367720466\n"
          ],
          "name": "stdout"
        }
      ]
    },
    {
      "cell_type": "code",
      "metadata": {
        "id": "V5fMOTKgrxGr",
        "colab_type": "code",
        "outputId": "08fcd464-6747-4c64-f418-f9396dd6ec07",
        "colab": {
          "base_uri": "https://localhost:8080/",
          "height": 214
        }
      },
      "source": [
        "# balance \n",
        "train=train.withColumn(\"classWeights\", when(train.Outcome == 1,BalancingRatio).otherwise(1-BalancingRatio))\n",
        "train.select(\"classWeights\").show(5)"
      ],
      "execution_count": 17,
      "outputs": [
        {
          "output_type": "stream",
          "text": [
            "+-------------------+\n",
            "|       classWeights|\n",
            "+-------------------+\n",
            "|0.34276206322795344|\n",
            "|0.34276206322795344|\n",
            "|0.34276206322795344|\n",
            "|0.34276206322795344|\n",
            "|0.34276206322795344|\n",
            "+-------------------+\n",
            "only showing top 5 rows\n",
            "\n"
          ],
          "name": "stdout"
        }
      ]
    },
    {
      "cell_type": "code",
      "metadata": {
        "id": "Hht_GsnCr2xN",
        "colab_type": "code",
        "outputId": "264aaa53-a8f8-4e96-93e9-0f0393285aab",
        "colab": {
          "base_uri": "https://localhost:8080/",
          "height": 214
        }
      },
      "source": [
        " #Feature selection\n",
        "# Feature selection using chisquareSelector\n",
        "from pyspark.ml.feature import ChiSqSelector\n",
        "css = ChiSqSelector(featuresCol='Scaled_features',outputCol='Aspect',labelCol='Outcome',fpr=0.05)\n",
        "train=css.fit(train).transform(train)\n",
        "test=css.fit(test).transform(test)\n",
        "test.select(\"Aspect\").show(5,truncate=False)"
      ],
      "execution_count": 18,
      "outputs": [
        {
          "output_type": "stream",
          "text": [
            "+---------------------------------------------------------------------------------------------------------------------------------------+\n",
            "|Aspect                                                                                                                                 |\n",
            "+---------------------------------------------------------------------------------------------------------------------------------------+\n",
            "|[0.0,2.562758938133151,7.274924068899646,3.29885013976358,0.47047140468429116,5.367154589366346,1.3098778871870878,1.785679127775751]  |\n",
            "|[0.0,2.8256060087109103,5.621532235058818,3.640110499049468,1.8295247783934943,5.207158111092553,0.7183201316832416,2.125808485447323] |\n",
            "|[0.0,2.9898854278220095,5.621532235058818,3.640110499049468,2.4699748745925287,5.8035086210221465,1.1499158410559458,2.125808485447323]|\n",
            "|[0.0,3.1213089631108892,5.290853868290652,4.436384670716539,1.2349874372962644,6.487129937282901,1.1046435638490186,1.870711467193644] |\n",
            "|[0.0,3.1213089631108892,6.6135673353633155,5.118905389288314,1.0820842307738696,5.30897405181224,0.995990098552394,2.210840824865216]  |\n",
            "+---------------------------------------------------------------------------------------------------------------------------------------+\n",
            "only showing top 5 rows\n",
            "\n"
          ],
          "name": "stdout"
        }
      ]
    },
    {
      "cell_type": "code",
      "metadata": {
        "id": "IzuP7fv2trR4",
        "colab_type": "code",
        "outputId": "02e72ba5-e4ad-436c-ecde-ee21fa8f8be3",
        "colab": {
          "base_uri": "https://localhost:8080/",
          "height": 303
        }
      },
      "source": [
        "#Building a classification model using Logistic Regression (LR)\n",
        "from pyspark.ml.classification import LogisticRegression\n",
        "lr = LogisticRegression(labelCol=\"Outcome\", featuresCol=\"Aspect\",weightCol=\"classWeights\",maxIter=10)\n",
        "model=lr.fit(train)\n",
        "predict_train=model.transform(train)\n",
        "predict_test=model.transform(test)\n",
        "predict_test.select(\"Outcome\",\"prediction\").show(10)"
      ],
      "execution_count": 19,
      "outputs": [
        {
          "output_type": "stream",
          "text": [
            "+-------+----------+\n",
            "|Outcome|prediction|\n",
            "+-------+----------+\n",
            "|      0|       0.0|\n",
            "|      0|       0.0|\n",
            "|      0|       0.0|\n",
            "|      0|       0.0|\n",
            "|      0|       0.0|\n",
            "|      1|       0.0|\n",
            "|      0|       0.0|\n",
            "|      0|       0.0|\n",
            "|      0|       0.0|\n",
            "|      0|       1.0|\n",
            "+-------+----------+\n",
            "only showing top 10 rows\n",
            "\n"
          ],
          "name": "stdout"
        }
      ]
    },
    {
      "cell_type": "code",
      "metadata": {
        "id": "GXM71K43uaTD",
        "colab_type": "code",
        "outputId": "bb55805f-204c-4f26-99c1-e74ca5fff8b3",
        "colab": {
          "base_uri": "https://localhost:8080/",
          "height": 214
        }
      },
      "source": [
        "#Evaluating the model\n",
        "from pyspark.ml.evaluation import BinaryClassificationEvaluator\n",
        "from pyspark.ml.evaluation import BinaryClassificationEvaluator\n",
        "evaluator=BinaryClassificationEvaluator(rawPredictionCol=\"rawPrediction\",labelCol=\"Outcome\")\n",
        "predict_test.select(\"Outcome\",\"rawPrediction\",\"prediction\",\"probability\").show(5)"
      ],
      "execution_count": 20,
      "outputs": [
        {
          "output_type": "stream",
          "text": [
            "+-------+--------------------+----------+--------------------+\n",
            "|Outcome|       rawPrediction|prediction|         probability|\n",
            "+-------+--------------------+----------+--------------------+\n",
            "|      0|[2.58888023648551...|       0.0|[0.93014249279728...|\n",
            "|      0|[2.32098145085482...|       0.0|[0.91059987057264...|\n",
            "|      0|[1.68081620680194...|       0.0|[0.84301258010142...|\n",
            "|      0|[0.64946166218389...|       0.0|[0.65688913922505...|\n",
            "|      0|[1.78997774283908...|       0.0|[0.85692454770533...|\n",
            "+-------+--------------------+----------+--------------------+\n",
            "only showing top 5 rows\n",
            "\n"
          ],
          "name": "stdout"
        }
      ]
    },
    {
      "cell_type": "code",
      "metadata": {
        "id": "Cm4rSt8AwNY5",
        "colab_type": "code",
        "outputId": "36ba983d-5f29-4cc2-c45b-ea8f88dec5e9",
        "colab": {
          "base_uri": "https://localhost:8080/",
          "height": 297
        }
      },
      "source": [
        "print(model.summary)\n",
        "import matplotlib.pyplot as plt\n",
        "pr = model.summary.pr.toPandas()\n",
        "plt.plot(pr['recall'],pr['precision'])\n",
        "plt.ylabel('Precision')\n",
        "plt.xlabel('Recall')\n",
        "plt.show()"
      ],
      "execution_count": 21,
      "outputs": [
        {
          "output_type": "stream",
          "text": [
            "<pyspark.ml.classification.BinaryLogisticRegressionTrainingSummary object at 0x7fc9231fd668>\n"
          ],
          "name": "stdout"
        },
        {
          "output_type": "display_data",
          "data": {
            "image/png": "[encoded data removed]",
            "text/plain": [
              "<Figure size 432x288 with 1 Axes>"
            ]
          },
          "metadata": {
            "tags": []
          }
        }
      ]
    }
  ]
}